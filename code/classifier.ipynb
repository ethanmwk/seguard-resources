{
 "cells": [
  {
   "cell_type": "code",
   "execution_count": 33,
   "metadata": {},
   "outputs": [],
   "source": [
    "# Track II \n",
    "import pickle\n",
    "from sklearn.model_selection import train_test_split"
   ]
  },
  {
   "cell_type": "code",
   "execution_count": 34,
   "metadata": {
    "scrolled": true
   },
   "outputs": [],
   "source": [
    "DX = pickle.load(open(\"/Users/ethanknutson/Documents/Seguard-dev/seguard-resources/data/DX.p\", \"rb\"))\n",
    "DY = pickle.load(open(\"/Users/ethanknutson/Documents/Seguard-dev/seguard-resources/data/DY.p\", \"rb\"))\n",
    "DZ = pickle.load(open(\"/Users/ethanknutson/Documents/Seguard-dev/seguard-resources/data/DZ.p\", \"rb\"))"
   ]
  },
  {
   "cell_type": "code",
   "execution_count": 35,
   "metadata": {},
   "outputs": [],
   "source": [
    "result = {}"
   ]
  },
  {
   "cell_type": "code",
   "execution_count": 36,
   "metadata": {},
   "outputs": [
    {
     "name": "stderr",
     "output_type": "stream",
     "text": [
      "/anaconda3/lib/python3.7/site-packages/sklearn/model_selection/_split.py:652: Warning: The least populated class in y has only 5 members, which is too few. The minimum number of members in any class cannot be less than n_splits=10.\n",
      "  % (min_groups, self.n_splits)), Warning)\n"
     ]
    }
   ],
   "source": [
    "# random forest\n",
    "from sklearn.ensemble import RandomForestClassifier\n",
    "from sklearn.model_selection import cross_val_predict\n",
    "from sklearn.metrics import accuracy_score\n",
    "\n",
    "temp = []\n",
    "# y_part \n",
    "clf = RandomForestClassifier(n_estimators=200, max_depth=15, random_state=0)\n",
    "y_pred = cross_val_predict(clf, DX, DY, cv = 10)\n",
    "temp.append(accuracy_score(DY, y_pred))\n",
    "\n",
    "# z_part\n",
    "clf = RandomForestClassifier(n_estimators=200, max_depth=15, random_state=0)\n",
    "z_pred = cross_val_predict(clf, DX, DZ, cv = 10)\n",
    "temp.append(accuracy_score(DZ, z_pred))\n",
    "\n",
    "result.update({'Random Forest': temp})\n"
   ]
  },
  {
   "cell_type": "code",
   "execution_count": 37,
   "metadata": {},
   "outputs": [
    {
     "name": "stderr",
     "output_type": "stream",
     "text": [
      "/anaconda3/lib/python3.7/site-packages/sklearn/model_selection/_split.py:652: Warning: The least populated class in y has only 5 members, which is too few. The minimum number of members in any class cannot be less than n_splits=10.\n",
      "  % (min_groups, self.n_splits)), Warning)\n"
     ]
    }
   ],
   "source": [
    "# SVC\n",
    "from sklearn.svm import SVC\n",
    "\n",
    "temp = []\n",
    "# y_part\n",
    "clf = SVC(gamma='auto')\n",
    "y_pred = cross_val_predict(clf, DX, DY, cv = 10)\n",
    "temp.append(accuracy_score(DY, y_pred))\n",
    "\n",
    "# z_part\n",
    "clf = SVC(gamma = 'auto')\n",
    "z_pred = cross_val_predict(clf, DX, DZ, cv = 10)\n",
    "temp.append(accuracy_score(DZ, z_pred))\n",
    "\n",
    "result.update({'SVC':temp})"
   ]
  },
  {
   "cell_type": "code",
   "execution_count": 38,
   "metadata": {},
   "outputs": [
    {
     "name": "stderr",
     "output_type": "stream",
     "text": [
      "/anaconda3/lib/python3.7/site-packages/sklearn/model_selection/_split.py:652: Warning: The least populated class in y has only 5 members, which is too few. The minimum number of members in any class cannot be less than n_splits=10.\n",
      "  % (min_groups, self.n_splits)), Warning)\n",
      "/anaconda3/lib/python3.7/site-packages/sklearn/model_selection/_split.py:652: Warning: The least populated class in y has only 5 members, which is too few. The minimum number of members in any class cannot be less than n_splits=10.\n",
      "  % (min_groups, self.n_splits)), Warning)\n",
      "/anaconda3/lib/python3.7/site-packages/sklearn/model_selection/_split.py:652: Warning: The least populated class in y has only 5 members, which is too few. The minimum number of members in any class cannot be less than n_splits=10.\n",
      "  % (min_groups, self.n_splits)), Warning)\n",
      "/anaconda3/lib/python3.7/site-packages/sklearn/model_selection/_split.py:652: Warning: The least populated class in y has only 5 members, which is too few. The minimum number of members in any class cannot be less than n_splits=10.\n",
      "  % (min_groups, self.n_splits)), Warning)\n",
      "/anaconda3/lib/python3.7/site-packages/sklearn/model_selection/_split.py:652: Warning: The least populated class in y has only 5 members, which is too few. The minimum number of members in any class cannot be less than n_splits=10.\n",
      "  % (min_groups, self.n_splits)), Warning)\n"
     ]
    },
    {
     "name": "stdout",
     "output_type": "stream",
     "text": [
      "{'Random Forest': [0.8554621848739495, 0.9159663865546218], 'SVC': [0.5142857142857142, 0.8285714285714286], '3 Neighbor': [0.7563025210084033, 0.8689075630252101], '5 Neighbor': [0.7378151260504202, 0.8588235294117647], '10 Neighbor': [0.7109243697478992, 0.8453781512605042], '15 Neighbor': [0.6638655462184874, 0.8420168067226891], '20 Neighbor': [0.6420168067226891, 0.8453781512605042]}\n"
     ]
    }
   ],
   "source": [
    "# K neighbor\n",
    "from sklearn.neighbors import KNeighborsClassifier\n",
    "\n",
    "neiborNum = [3, 5, 10, 15, 20]\n",
    "for num in neiborNum:\n",
    "    temp = []\n",
    "    clf = KNeighborsClassifier(n_neighbors=num)\n",
    "    y_pred = cross_val_predict(clf, DX, DY, cv = 10)\n",
    "    temp.append(accuracy_score(DY, y_pred))\n",
    "    \n",
    "    clf = KNeighborsClassifier(n_neighbors=num)\n",
    "    z_pred = cross_val_predict(clf, DX, DZ, cv = 10)\n",
    "    temp.append(accuracy_score(DZ, z_pred))\n",
    "    string = \"{} Neighbor\".format(num)\n",
    "    result.update({string: temp})\n",
    "print(result)"
   ]
  },
  {
   "cell_type": "code",
   "execution_count": 39,
   "metadata": {},
   "outputs": [
    {
     "name": "stderr",
     "output_type": "stream",
     "text": [
      "/anaconda3/lib/python3.7/site-packages/sklearn/model_selection/_split.py:652: Warning: The least populated class in y has only 5 members, which is too few. The minimum number of members in any class cannot be less than n_splits=10.\n",
      "  % (min_groups, self.n_splits)), Warning)\n",
      "/anaconda3/lib/python3.7/site-packages/sklearn/linear_model/logistic.py:460: FutureWarning: Default multi_class will be changed to 'auto' in 0.22. Specify the multi_class option to silence this warning.\n",
      "  \"this warning.\", FutureWarning)\n",
      "/anaconda3/lib/python3.7/site-packages/sklearn/linear_model/logistic.py:460: FutureWarning: Default multi_class will be changed to 'auto' in 0.22. Specify the multi_class option to silence this warning.\n",
      "  \"this warning.\", FutureWarning)\n",
      "/anaconda3/lib/python3.7/site-packages/sklearn/linear_model/logistic.py:460: FutureWarning: Default multi_class will be changed to 'auto' in 0.22. Specify the multi_class option to silence this warning.\n",
      "  \"this warning.\", FutureWarning)\n",
      "/anaconda3/lib/python3.7/site-packages/sklearn/linear_model/logistic.py:460: FutureWarning: Default multi_class will be changed to 'auto' in 0.22. Specify the multi_class option to silence this warning.\n",
      "  \"this warning.\", FutureWarning)\n",
      "/anaconda3/lib/python3.7/site-packages/sklearn/linear_model/logistic.py:460: FutureWarning: Default multi_class will be changed to 'auto' in 0.22. Specify the multi_class option to silence this warning.\n",
      "  \"this warning.\", FutureWarning)\n",
      "/anaconda3/lib/python3.7/site-packages/sklearn/linear_model/logistic.py:460: FutureWarning: Default multi_class will be changed to 'auto' in 0.22. Specify the multi_class option to silence this warning.\n",
      "  \"this warning.\", FutureWarning)\n",
      "/anaconda3/lib/python3.7/site-packages/sklearn/linear_model/logistic.py:460: FutureWarning: Default multi_class will be changed to 'auto' in 0.22. Specify the multi_class option to silence this warning.\n",
      "  \"this warning.\", FutureWarning)\n",
      "/anaconda3/lib/python3.7/site-packages/sklearn/linear_model/logistic.py:460: FutureWarning: Default multi_class will be changed to 'auto' in 0.22. Specify the multi_class option to silence this warning.\n",
      "  \"this warning.\", FutureWarning)\n",
      "/anaconda3/lib/python3.7/site-packages/sklearn/linear_model/logistic.py:460: FutureWarning: Default multi_class will be changed to 'auto' in 0.22. Specify the multi_class option to silence this warning.\n",
      "  \"this warning.\", FutureWarning)\n",
      "/anaconda3/lib/python3.7/site-packages/sklearn/linear_model/logistic.py:460: FutureWarning: Default multi_class will be changed to 'auto' in 0.22. Specify the multi_class option to silence this warning.\n",
      "  \"this warning.\", FutureWarning)\n"
     ]
    },
    {
     "name": "stdout",
     "output_type": "stream",
     "text": [
      "{'Random Forest': [0.8554621848739495, 0.9159663865546218], 'SVC': [0.5142857142857142, 0.8285714285714286], '3 Neighbor': [0.7563025210084033, 0.8689075630252101], '5 Neighbor': [0.7378151260504202, 0.8588235294117647], '10 Neighbor': [0.7109243697478992, 0.8453781512605042], '15 Neighbor': [0.6638655462184874, 0.8420168067226891], '20 Neighbor': [0.6420168067226891, 0.8453781512605042], 'LogReg': [0.8638655462184874, 0.9327731092436975]}\n"
     ]
    }
   ],
   "source": [
    "from sklearn.linear_model import LogisticRegression\n",
    "\n",
    "temp = []\n",
    "\n",
    "clf = LogisticRegression(solver='lbfgs')\n",
    "y_pred = cross_val_predict(clf, DX, DY, cv = 10)\n",
    "temp.append(accuracy_score(DY, y_pred))\n",
    "\n",
    "z_pred = cross_val_predict(clf, DX, DZ, cv=10)\n",
    "temp.append(accuracy_score(DZ, z_pred))\n",
    "result.update({'LogReg': temp})\n",
    "print(result)"
   ]
  },
  {
   "cell_type": "code",
   "execution_count": 40,
   "metadata": {
    "scrolled": true
   },
   "outputs": [
    {
     "data": {
      "text/html": [
       "<div>\n",
       "<style scoped>\n",
       "    .dataframe tbody tr th:only-of-type {\n",
       "        vertical-align: middle;\n",
       "    }\n",
       "\n",
       "    .dataframe tbody tr th {\n",
       "        vertical-align: top;\n",
       "    }\n",
       "\n",
       "    .dataframe thead th {\n",
       "        text-align: right;\n",
       "    }\n",
       "</style>\n",
       "<table border=\"1\" class=\"dataframe\">\n",
       "  <thead>\n",
       "    <tr style=\"text-align: right;\">\n",
       "      <th></th>\n",
       "      <th>Random Forest</th>\n",
       "      <th>SVC</th>\n",
       "      <th>3 Neighbor</th>\n",
       "      <th>5 Neighbor</th>\n",
       "      <th>10 Neighbor</th>\n",
       "      <th>15 Neighbor</th>\n",
       "      <th>20 Neighbor</th>\n",
       "      <th>LogReg</th>\n",
       "    </tr>\n",
       "  </thead>\n",
       "  <tbody>\n",
       "    <tr>\n",
       "      <th>y</th>\n",
       "      <td>0.855462</td>\n",
       "      <td>0.514286</td>\n",
       "      <td>0.756303</td>\n",
       "      <td>0.737815</td>\n",
       "      <td>0.710924</td>\n",
       "      <td>0.663866</td>\n",
       "      <td>0.642017</td>\n",
       "      <td>0.863866</td>\n",
       "    </tr>\n",
       "    <tr>\n",
       "      <th>z</th>\n",
       "      <td>0.915966</td>\n",
       "      <td>0.828571</td>\n",
       "      <td>0.868908</td>\n",
       "      <td>0.858824</td>\n",
       "      <td>0.845378</td>\n",
       "      <td>0.842017</td>\n",
       "      <td>0.845378</td>\n",
       "      <td>0.932773</td>\n",
       "    </tr>\n",
       "  </tbody>\n",
       "</table>\n",
       "</div>"
      ],
      "text/plain": [
       "   Random Forest       SVC  3 Neighbor  5 Neighbor  10 Neighbor  15 Neighbor  \\\n",
       "y       0.855462  0.514286    0.756303    0.737815     0.710924     0.663866   \n",
       "z       0.915966  0.828571    0.868908    0.858824     0.845378     0.842017   \n",
       "\n",
       "   20 Neighbor    LogReg  \n",
       "y     0.642017  0.863866  \n",
       "z     0.845378  0.932773  "
      ]
     },
     "execution_count": 40,
     "metadata": {},
     "output_type": "execute_result"
    }
   ],
   "source": [
    "import numpy as np\n",
    "import pandas as pd\n",
    "df = pd.DataFrame.from_dict(result)\n",
    "idx = {0: 'Y', 1: 'Z'}\n",
    "df_res = df.rename(index={0: \"y\", 1: \"z\"})\n",
    "df_res"
   ]
  },
  {
   "cell_type": "code",
   "execution_count": null,
   "metadata": {},
   "outputs": [],
   "source": []
  }
 ],
 "metadata": {
  "kernelspec": {
   "display_name": "Python 3",
   "language": "python",
   "name": "python3"
  },
  "language_info": {
   "codemirror_mode": {
    "name": "ipython",
    "version": 3
   },
   "file_extension": ".py",
   "mimetype": "text/x-python",
   "name": "python",
   "nbconvert_exporter": "python",
   "pygments_lexer": "ipython3",
   "version": "3.7.3"
  }
 },
 "nbformat": 4,
 "nbformat_minor": 2
}
